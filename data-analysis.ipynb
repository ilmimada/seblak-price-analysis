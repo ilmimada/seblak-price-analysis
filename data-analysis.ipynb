{
 "cells": [
  {
   "cell_type": "markdown",
   "metadata": {},
   "source": [
    "## Graded Challange 5\n",
    "\n",
    "### Nama    : Ilmimada Hafiya\n",
    "### Batch   : CODA-RMT-007\n",
    "\n",
    "#### Program ini dibuat untuk menganalisa popularitas seblak di masyarakat, dengan menggunakan data dari data scrapping tokopedia\n",
    "---"
   ]
  },
  {
   "cell_type": "markdown",
   "metadata": {},
   "source": [
    "### i. import Library\n"
   ]
  },
  {
   "cell_type": "code",
   "execution_count": 23,
   "metadata": {},
   "outputs": [],
   "source": [
    "import pandas as pd\n",
    "import numpy as np\n",
    "from scipy.stats import skew, kurtosis\n",
    "from scipy.stats import norm\n",
    "from scipy.stats import spearmanr\n",
    "import matplotlib.pyplot as plt\n",
    "import seaborn as sns\n",
    "from scipy import stats\n",
    "from scipy.stats import ttest_ind"
   ]
  },
  {
   "cell_type": "markdown",
   "metadata": {},
   "source": [
    "### ii. Load Data dan Eksplorasi Data Analisis"
   ]
  },
  {
   "cell_type": "code",
   "execution_count": 3,
   "metadata": {},
   "outputs": [],
   "source": [
    "# load data\n",
    "df = pd.read_csv('tokopedia_seblak_08072025.csv')"
   ]
  },
  {
   "cell_type": "code",
   "execution_count": 4,
   "metadata": {},
   "outputs": [
    {
     "name": "stdout",
     "output_type": "stream",
     "text": [
      "<class 'pandas.core.frame.DataFrame'>\n",
      "RangeIndex: 116 entries, 0 to 115\n",
      "Data columns (total 6 columns):\n",
      " #   Column        Non-Null Count  Dtype  \n",
      "---  ------        --------------  -----  \n",
      " 0   Nama Produk   116 non-null    object \n",
      " 1   Harga Produk  116 non-null    float64\n",
      " 2   Penjual       116 non-null    object \n",
      " 3   Kota          116 non-null    object \n",
      " 4   Terjual       116 non-null    float64\n",
      " 5   Rating        116 non-null    float64\n",
      "dtypes: float64(3), object(3)\n",
      "memory usage: 5.6+ KB\n"
     ]
    }
   ],
   "source": [
    "# lihat struktur data\n",
    "df.info()"
   ]
  },
  {
   "cell_type": "code",
   "execution_count": 5,
   "metadata": {},
   "outputs": [
    {
     "data": {
      "text/html": [
       "<div>\n",
       "<style scoped>\n",
       "    .dataframe tbody tr th:only-of-type {\n",
       "        vertical-align: middle;\n",
       "    }\n",
       "\n",
       "    .dataframe tbody tr th {\n",
       "        vertical-align: top;\n",
       "    }\n",
       "\n",
       "    .dataframe thead th {\n",
       "        text-align: right;\n",
       "    }\n",
       "</style>\n",
       "<table border=\"1\" class=\"dataframe\">\n",
       "  <thead>\n",
       "    <tr style=\"text-align: right;\">\n",
       "      <th></th>\n",
       "      <th>Nama Produk</th>\n",
       "      <th>Harga Produk</th>\n",
       "      <th>Penjual</th>\n",
       "      <th>Kota</th>\n",
       "      <th>Terjual</th>\n",
       "      <th>Rating</th>\n",
       "    </tr>\n",
       "  </thead>\n",
       "  <tbody>\n",
       "    <tr>\n",
       "      <th>0</th>\n",
       "      <td>Seblak Instan Paket 10pcs (10 Bungkus) Khas Ba...</td>\n",
       "      <td>25999.0</td>\n",
       "      <td>mamah mbi</td>\n",
       "      <td>Kab. Garut</td>\n",
       "      <td>100.0</td>\n",
       "      <td>4.5</td>\n",
       "    </tr>\n",
       "    <tr>\n",
       "      <th>1</th>\n",
       "      <td>Mama Fuji - SEBLAK INSTAN Food Noodles</td>\n",
       "      <td>26999.0</td>\n",
       "      <td>Mama Fuji Real</td>\n",
       "      <td>Tangerang</td>\n",
       "      <td>2000.0</td>\n",
       "      <td>4.8</td>\n",
       "    </tr>\n",
       "    <tr>\n",
       "      <th>2</th>\n",
       "      <td>Seblak Rafael/Seblak Coet Instan Halal</td>\n",
       "      <td>26600.0</td>\n",
       "      <td>Foodstocks</td>\n",
       "      <td>Jakarta Selatan</td>\n",
       "      <td>1000.0</td>\n",
       "      <td>4.9</td>\n",
       "    </tr>\n",
       "    <tr>\n",
       "      <th>3</th>\n",
       "      <td>Kylafood Seblak Rempah Autentik</td>\n",
       "      <td>13000.0</td>\n",
       "      <td>Kylafood Jakarta</td>\n",
       "      <td>Jakarta Selatan</td>\n",
       "      <td>250.0</td>\n",
       "      <td>5.0</td>\n",
       "    </tr>\n",
       "    <tr>\n",
       "      <th>4</th>\n",
       "      <td>SEBLAK CAMPUR - SEBLAK MIX 500gr ANEKA KERUPIK...</td>\n",
       "      <td>13450.0</td>\n",
       "      <td>Aneka Snack &amp; Food</td>\n",
       "      <td>Kab.Ciamis</td>\n",
       "      <td>10000.0</td>\n",
       "      <td>4.7</td>\n",
       "    </tr>\n",
       "  </tbody>\n",
       "</table>\n",
       "</div>"
      ],
      "text/plain": [
       "                                         Nama Produk  Harga Produk  \\\n",
       "0  Seblak Instan Paket 10pcs (10 Bungkus) Khas Ba...       25999.0   \n",
       "1             Mama Fuji - SEBLAK INSTAN Food Noodles       26999.0   \n",
       "2             Seblak Rafael/Seblak Coet Instan Halal       26600.0   \n",
       "3                    Kylafood Seblak Rempah Autentik       13000.0   \n",
       "4  SEBLAK CAMPUR - SEBLAK MIX 500gr ANEKA KERUPIK...       13450.0   \n",
       "\n",
       "              Penjual             Kota  Terjual  Rating  \n",
       "0           mamah mbi       Kab. Garut    100.0     4.5  \n",
       "1      Mama Fuji Real        Tangerang   2000.0     4.8  \n",
       "2          Foodstocks  Jakarta Selatan   1000.0     4.9  \n",
       "3    Kylafood Jakarta  Jakarta Selatan    250.0     5.0  \n",
       "4  Aneka Snack & Food       Kab.Ciamis  10000.0     4.7  "
      ]
     },
     "execution_count": 5,
     "metadata": {},
     "output_type": "execute_result"
    }
   ],
   "source": [
    "# tampilkan 5 data teratas\n",
    "df.head()"
   ]
  },
  {
   "cell_type": "code",
   "execution_count": 6,
   "metadata": {},
   "outputs": [
    {
     "data": {
      "text/html": [
       "<div>\n",
       "<style scoped>\n",
       "    .dataframe tbody tr th:only-of-type {\n",
       "        vertical-align: middle;\n",
       "    }\n",
       "\n",
       "    .dataframe tbody tr th {\n",
       "        vertical-align: top;\n",
       "    }\n",
       "\n",
       "    .dataframe thead th {\n",
       "        text-align: right;\n",
       "    }\n",
       "</style>\n",
       "<table border=\"1\" class=\"dataframe\">\n",
       "  <thead>\n",
       "    <tr style=\"text-align: right;\">\n",
       "      <th></th>\n",
       "      <th>Harga Produk</th>\n",
       "      <th>Terjual</th>\n",
       "      <th>Rating</th>\n",
       "    </tr>\n",
       "  </thead>\n",
       "  <tbody>\n",
       "    <tr>\n",
       "      <th>count</th>\n",
       "      <td>116.000000</td>\n",
       "      <td>116.000000</td>\n",
       "      <td>116.000000</td>\n",
       "    </tr>\n",
       "    <tr>\n",
       "      <th>mean</th>\n",
       "      <td>31006.258621</td>\n",
       "      <td>5067.336207</td>\n",
       "      <td>4.667241</td>\n",
       "    </tr>\n",
       "    <tr>\n",
       "      <th>std</th>\n",
       "      <td>29277.362810</td>\n",
       "      <td>16482.935439</td>\n",
       "      <td>0.497782</td>\n",
       "    </tr>\n",
       "    <tr>\n",
       "      <th>min</th>\n",
       "      <td>2359.000000</td>\n",
       "      <td>2.000000</td>\n",
       "      <td>3.000000</td>\n",
       "    </tr>\n",
       "    <tr>\n",
       "      <th>25%</th>\n",
       "      <td>12375.000000</td>\n",
       "      <td>100.000000</td>\n",
       "      <td>4.700000</td>\n",
       "    </tr>\n",
       "    <tr>\n",
       "      <th>50%</th>\n",
       "      <td>21000.000000</td>\n",
       "      <td>500.000000</td>\n",
       "      <td>4.800000</td>\n",
       "    </tr>\n",
       "    <tr>\n",
       "      <th>75%</th>\n",
       "      <td>38600.000000</td>\n",
       "      <td>3000.000000</td>\n",
       "      <td>4.900000</td>\n",
       "    </tr>\n",
       "    <tr>\n",
       "      <th>max</th>\n",
       "      <td>169000.000000</td>\n",
       "      <td>100000.000000</td>\n",
       "      <td>5.000000</td>\n",
       "    </tr>\n",
       "  </tbody>\n",
       "</table>\n",
       "</div>"
      ],
      "text/plain": [
       "        Harga Produk        Terjual      Rating\n",
       "count     116.000000     116.000000  116.000000\n",
       "mean    31006.258621    5067.336207    4.667241\n",
       "std     29277.362810   16482.935439    0.497782\n",
       "min      2359.000000       2.000000    3.000000\n",
       "25%     12375.000000     100.000000    4.700000\n",
       "50%     21000.000000     500.000000    4.800000\n",
       "75%     38600.000000    3000.000000    4.900000\n",
       "max    169000.000000  100000.000000    5.000000"
      ]
     },
     "execution_count": 6,
     "metadata": {},
     "output_type": "execute_result"
    }
   ],
   "source": [
    "# statistik ringkas\n",
    "df.describe()"
   ]
  },
  {
   "cell_type": "markdown",
   "metadata": {},
   "source": [
    "### iii. Business understanding"
   ]
  },
  {
   "cell_type": "markdown",
   "metadata": {},
   "source": [
    "#### Konteks Bisnis\n",
    "##### Saya ingin mulai berjualan tanpa modal produksi, sehingga memilih dropship. Karena seblak sedang viral, saya ingin tahu apakah produk seblak mempunyai potensi untuk dijual di tokopedia.\n",
    "##### Tujuan analisa :\n",
    "##### - Mengetahui apakah produk ini disukai\n",
    "##### - berapa banyak pembeli\n",
    "##### - berapa harga yang masuk akal untuk berjualan seblak"
   ]
  },
  {
   "cell_type": "markdown",
   "metadata": {},
   "source": [
    "#### (SMART Framework)\n",
    "|**SMART**|**Description**|\n",
    "|---|---|\n",
    "|Specific|Mengetahui apakah produk seblak memiliki potensi penjualan di Tokopedia |\n",
    "|Measureable|menggunakan metrik: Rata-rata rating, jumlah terjual, distribusi harga, korelasi harga-rating |\n",
    "|Achievable|Data sudah didapatkan dan dapat dianalisis dengan teknik statistik dasar |\n",
    "|Relevant|berhubungan langsung dengan keputusan dropship |\n",
    "|Time-bound|Analisis dilakukan untuk penjualan satubulan ke depan |\n",
    "\n",
    "#### Problem Statement\n",
    "##### Dalam waktu satu bulan, saya ingin mengetahui potensi penjualan produk seblak di Tokopedia berdasarkan data rating, harga, dan jumlah terjual, agar dapat memutuskan kelayakan seblak untuk dijual dengan skema dropship"
   ]
  },
  {
   "cell_type": "markdown",
   "metadata": {},
   "source": [
    "### iv. Analisis Data"
   ]
  },
  {
   "cell_type": "markdown",
   "metadata": {},
   "source": [
    "#### 1. Statistik Deskriptif"
   ]
  },
  {
   "cell_type": "code",
   "execution_count": 11,
   "metadata": {},
   "outputs": [
    {
     "name": "stdout",
     "output_type": "stream",
     "text": [
      "=== HARGA PRODUK ===\n",
      "Mean: 31006.258620689656\n",
      "Median: 21000.0\n",
      "Std Dev: 29277.362809521623\n",
      "Skewness: 2.107371779842613\n",
      "Kurtosis: 5.2346240473901595\n",
      "\n",
      "=== TERJUAL ===\n",
      "Mean: 5067.336206896552\n",
      "Median: 500.0\n",
      "Std Dev: 16482.93543872833\n",
      "Skewness: 5.168808163797627\n",
      "Kurtosis: 26.444225091613898\n",
      "\n",
      "=== RATING ===\n",
      "Mean: 4.667241379310344\n",
      "Median: 4.8\n",
      "Std Dev: 0.49778218775562516\n",
      "Skewness: -2.6861662799688846\n",
      "Kurtosis: 6.174043500612827\n",
      "\n"
     ]
    }
   ],
   "source": [
    "# Kolom numerik utama\n",
    "cols = ['Harga Produk', 'Terjual', 'Rating']\n",
    "\n",
    "for col in cols:\n",
    "    print(f\"=== {col.upper()} ===\")\n",
    "    print(\"Mean:\", df[col].mean())\n",
    "    print(\"Median:\", df[col].median())\n",
    "    print(\"Std Dev:\", df[col].std())\n",
    "    print(\"Skewness:\", skew(df[col]))\n",
    "    print(\"Kurtosis:\", kurtosis(df[col]))\n",
    "    print()"
   ]
  },
  {
   "cell_type": "markdown",
   "metadata": {},
   "source": [
    "#### Visualisasi grafik"
   ]
  },
  {
   "cell_type": "code",
   "execution_count": null,
   "metadata": {},
   "outputs": [
    {
     "data": {
      "image/png": "[encoded data removed]",
      "text/plain": [
       "<Figure size 1800x500 with 3 Axes>"
      ]
     },
     "metadata": {},
     "output_type": "display_data"
    }
   ],
   "source": [
    "sns.set(style=\"whitegrid\")\n",
    "\n",
    "# Setup subplot\n",
    "fig, axes = plt.subplots(1, 3, figsize=(18, 5))\n",
    "\n",
    "# List kolom\n",
    "cols = ['Harga Produk', 'Terjual', 'Rating']\n",
    "titles = ['Distribusi Harga Produk', 'Distribusi Jumlah Produk Terjual', 'Distribusi Rating Produk']\n",
    "\n",
    "# visualisasi\n",
    "for i, col in enumerate(cols):\n",
    "    sns.histplot(df[col], kde=True, ax=axes[i], color='skyblue')\n",
    "    axes[i].axvline(df[col].mean(), color='red', linestyle='--', label='Mean')\n",
    "    axes[i].axvline(df[col].median(), color='green', linestyle='-', label='Median')\n",
    "    axes[i].set_title(titles[i])\n",
    "    axes[i].legend()\n",
    "\n",
    "plt.tight_layout()\n",
    "plt.show()"
   ]
  },
  {
   "cell_type": "markdown",
   "metadata": {},
   "source": [
    "Analisis Distribusi dan Insight Produk Seblak\n",
    "\n",
    "- Harga produk\n",
    "    - Mean : Rp 31.006\n",
    "    - Median : Rp 21.000\n",
    "    - Skewness : 2.11 (positive)\n",
    "    - Kurtosis : 5.23\n",
    "- Interpretasi\n",
    "    - Rata-rata harga > median = right skewed, ada banyak produk mahal yang menarik rata-rata ke atas\n",
    "    - Kurtosis > 3 - distribusi leptokurtik, ada outlier harga tinggi (kemungkinan produk dengan harga yang jauh lebih mahal dari harga rata-rata)\n",
    "    - Kesimpulan : produk seblak didominasi harga menengah ke bawah, tetapi ada beberapa outlier mahal yang membuat distribusi meluas ke kanan.\n",
    "\n",
    "- Jumlah Produk Terjual\n",
    "    - Mean : 5.067 produk/bulan (karena data scraping tidak ada time series, maka data diasumsikan sebagai penualan per-bulan)\n",
    "    - Median : 500\n",
    "    - Skewness: 5.17\n",
    "    - Kurtosis: 26.44 (sangat tinggi)\n",
    "- Interpretasi:\n",
    "    - Median < mean = right skewed.\n",
    "    - Banyak outlier, yaitu sedikit produk dengan jumlah terjual sangat besar (bisa jadi viral/best seller), tapi mayoritas produk hanya terjual dalam jumlah kecil atau menengah.\n",
    "    - Kurtosis sangat tinggi = ada beberapa produk sangat dominan dalam penjualan, sisanya biasa saja.\n",
    "    - Kesimpulan : lebih baik pilih produk dengan jumlah terjual tinggi, artinya udah terbukti laku.\n",
    "\n",
    "- Rating\n",
    "    - Mean: 4.67\n",
    "    - Median: 4.8\n",
    "    - Skewness: -2.69 (negatif)\n",
    "    - Kurtosis: 6.17\n",
    "- Interpretasi:\n",
    "    - Skewness negatif = mayoritas rating tinggi (4.5 - 5).\n",
    "    - Kurtosis > 3 = rating cenderung terkonsentrasi di sekitar 4.5-5, sedikit variasi.\n",
    "    - Kesimpulan : produk seblak umumnya disukai konsumen, meskipun jumlah terjualnya tidak selalu tinggi.\n",
    "\n",
    "##### Kesimpulan : Data menunjukkan sebagian besar produk seblak dijual dengan harga terjangkau (sekitar Rp 21.000), meskipun ada beberapa produk premium atau bundling yang harganya cukup mahal. jumlah terjual sangat bervariasi, namun mayoritas terjual dalam jumlah kecil. Rating penjualan menunjukkan konsumen puas dengan kualitas seblak yang terjual karena mayoritas rating hampir semua mendekati 5.0. Terdapat outlier di semua variable terutama penjualan, hal ini menunjukkan bahwa hanya sedikit produk yang bisa viral."
   ]
  },
  {
   "cell_type": "markdown",
   "metadata": {},
   "source": [
    "#### 2. Estimasi Pendapatan Min - Max (Confidence Interval)\n",
    "Asumsi :\n",
    "\n",
    "    - Pendapatan = harga produk x terjual\n",
    "\n",
    "    - Produk Terjual = Penjualan per bulan\n",
    "\n",
    "    - Diasumsikan sebagai distribusi normal\n",
    "\n",
    "    - Convidence Level 95%\n",
    "\n"
   ]
  },
  {
   "cell_type": "code",
   "execution_count": null,
   "metadata": {},
   "outputs": [
    {
     "name": "stdout",
     "output_type": "stream",
     "text": [
      "Lower Limit: 50424732.92\n",
      "Upper Limit: 172819572.08\n"
     ]
    }
   ],
   "source": [
    "# Buat kolom pendapatan\n",
    "df['pendapatan'] = df['Harga Produk'] * df['Terjual']\n",
    "\n",
    "# Hitung standar deviasi dan jumlah sampel\n",
    "std = df['pendapatan'].std()\n",
    "N = len(df)\n",
    "\n",
    "# Hitung confidence interval 95%\n",
    "low, up = stats.norm.interval(\n",
    "    0.95,\n",
    "    loc=df['pendapatan'].mean(),\n",
    "    scale=std / np.sqrt(N)\n",
    ")\n",
    "\n",
    "# Tampilkan hasil\n",
    "print('Lower Limit:', round(low, 2))\n",
    "print('Upper Limit:', round(up, 2))"
   ]
  },
  {
   "cell_type": "markdown",
   "metadata": {},
   "source": [
    "Berdasarkan hasil perhitungan dengan confidence level 95%, estimasi pendapatan penjualan seblak di tokopedia berapa pada rentang 50 juta hingga 172 juta."
   ]
  },
  {
   "cell_type": "markdown",
   "metadata": {},
   "source": [
    "#### 3. Analisa harga barang di Jabodetabek dan luar Jabodetabek"
   ]
  },
  {
   "cell_type": "code",
   "execution_count": 19,
   "metadata": {},
   "outputs": [
    {
     "data": {
      "text/plain": [
       "array(['Kab. Garut', 'Tangerang', 'Jakarta Selatan', 'Kab.Ciamis',\n",
       "       'Semarang', 'Kab. Tangerang', 'Jakarta Pusat', 'Bandung',\n",
       "       'Kab. Bandung', 'Jakarta Barat', 'Surabaya', 'Tangerang Selatan',\n",
       "       'Jakarta Timur', 'Depok', 'Jakarta Utara', 'Kab. Karawang',\n",
       "       'Kab. Cirebon', 'Cimahi', 'Bekasi', 'Tasikmalaya', 'Kab. Bekasi',\n",
       "       'Kab. Bandung Barat', 'Kab. Tasikmalaya', 'Kab. Cilacap',\n",
       "       'Kab. Bogor', 'Kab. Gresik'], dtype=object)"
      ]
     },
     "execution_count": 19,
     "metadata": {},
     "output_type": "execute_result"
    }
   ],
   "source": [
    "df['Kota'].unique()"
   ]
  },
  {
   "cell_type": "markdown",
   "metadata": {},
   "source": [
    "##### Uji hipotesis\n",
    "- H0 (null) : Tidak ada perbedaan harga rata-rata produk seblak di Jabodetabek dan luar Jabodetabek\n",
    "- H1 (Alternatif) : Ada perbedaan harga rata-rata produk seblak di Jabodetabek dan luar Jabodetabek\n",
    "\n",
    "Two-Sampe Independent test"
   ]
  },
  {
   "cell_type": "code",
   "execution_count": 20,
   "metadata": {},
   "outputs": [],
   "source": [
    "# Mengelompokkan wilayah Jabodetabek\n",
    "wilayah_jabodetabek = [\n",
    "    'Jakarta Selatan', 'Jakarta Pusat', 'Jakarta Timur', 'Jakarta Utara', 'Jakarta Barat', \n",
    "    'Tangerang', 'Tangerang Selatan', 'Kab. Tangerang', 'Depok', 'Kab.Bogor', 'Bekasi', 'Kab. Bekasi'\n",
    "]\n",
    "\n",
    "# Pisahkan dua grup data\n",
    "harga_jabodetabek = df[df['Kota'].isin(wilayah_jabodetabek)]['Harga Produk']\n",
    "harga_luar = df[~df['Kota'].isin(wilayah_jabodetabek)]['Harga Produk']"
   ]
  },
  {
   "cell_type": "code",
   "execution_count": null,
   "metadata": {},
   "outputs": [
    {
     "name": "stdout",
     "output_type": "stream",
     "text": [
      "Statistik t: -1.9824526248669765\n",
      "P-value: 0.049912022338339544\n"
     ]
    }
   ],
   "source": [
    "# T test\n",
    "stat, p = ttest_ind(harga_jabodetabek, harga_luar, nan_policy='omit', equal_var=False)\n",
    "\n",
    "# Step 4: Print hasil\n",
    "print(\"Statistik t:\", stat)\n",
    "print(\"P-value:\", p)"
   ]
  },
  {
   "cell_type": "markdown",
   "metadata": {},
   "source": [
    "P value lebih kecil dari 0.05, maka tolak H0 (tidak ada perbedaan harga), sehingga kesimpulannya ada lah terdapat perbedaan harga yang signifikan antara Jabodetabek dan luar Jabodetabek."
   ]
  },
  {
   "cell_type": "markdown",
   "metadata": {},
   "source": [
    "#### 4. Apakah harga murah lebih disukai konsumen?"
   ]
  },
  {
   "cell_type": "code",
   "execution_count": 25,
   "metadata": {},
   "outputs": [
    {
     "name": "stdout",
     "output_type": "stream",
     "text": [
      "=== Korelasi Harga vs Rating ===\n",
      "Spearman Correlation: 0.0518\n",
      "P-Value: 0.5808\n"
     ]
    }
   ],
   "source": [
    "# Korelasi harga dan rating\n",
    "corr_rating, p_rating = spearmanr(df['Harga Produk'], df['Rating'], nan_policy='omit')\n",
    "\n",
    "print(\"=== Korelasi Harga vs Rating ===\")\n",
    "print(\"Spearman Correlation:\", round(corr_rating, 4))\n",
    "print(\"P-Value:\", round(p_rating, 4))"
   ]
  },
  {
   "cell_type": "code",
   "execution_count": 26,
   "metadata": {},
   "outputs": [
    {
     "name": "stdout",
     "output_type": "stream",
     "text": [
      "\n",
      "=== Korelasi Harga vs Terjual ===\n",
      "Spearman Correlation: -0.1361\n",
      "P-Value: 0.1452\n"
     ]
    }
   ],
   "source": [
    "# Korelasi harga dan jumlah terjual\n",
    "corr_terjual, p_terjual = spearmanr(df['Harga Produk'], df['Terjual'], nan_policy='omit')\n",
    "\n",
    "print(\"\\n=== Korelasi Harga vs Terjual ===\")\n",
    "print(\"Spearman Correlation:\", round(corr_terjual, 4))\n",
    "print(\"P-Value:\", round(p_terjual, 4))"
   ]
  },
  {
   "cell_type": "markdown",
   "metadata": {},
   "source": [
    "### Kesimpulan Akhir\n",
    "\n",
    "Berdasarkan analisis data produk seblak di Tokopedia, ditemukan hasil analisa data berikut :\n",
    "\n",
    "- **Distribusi Data:**\n",
    "  - Harga produk mayoritas ada di kisaran menengah (median Rp21.000), dengan sedikit produk premium sebagai outlier (produk dengan harga sangat tinggi).\n",
    "  - Jumlah penjualan sangat bervariasi; sebagian besar produk hanya terjual sedikit kemungkinan produk baru dijual, namun ada beberapa yang sangat laku kemungkinan dari produk yang viral.\n",
    "  - Rating produk umumnya tinggi (median 4.8), menunjukkan kepuasan konsumen yang konsisten.\n",
    "\n",
    "- **Estimasi Pendapatan:**\n",
    "  - Confidence interval 95% menunjukkan potensi pendapatan per produk berkisar antara **Rp50 juta hingga Rp173 juta per bulan**.\n",
    "\n",
    "- **Perbedaan Harga Berdasarkan Wilayah:**\n",
    "  - Terdapat **perbedaan harga yang signifikan** antara produk di wilayah Jabodetabek dan luar Jabodetabek (*p-value = 0.049*), kemungkinan disebabkan oleh faktor biaya bahan baku.\n",
    "\n",
    "- **Pengaruh Harga terhadap Rating dan Penjualan:**\n",
    "  - Tidak ditemukan korelasi signifikan antara harga dengan rating (*p = 0.58*) maupun dengan jumlah produk terjual (*p = 0.14*). Artinya, **harga bukan faktor utama** yang mempengaruhi keputusan pembelian.\n",
    "\n",
    "  ---\n",
    "- Dengan demikian, dropship seblak menunjukkan peluang penghasilan yang tinggi, untuk meningkatkan penjualan, disarankan memilih seblak dengan **rating tinggi** dan **histori penjualan tinggi**.\n",
    "- Selain itu, wilayah penjualan produk seblak juga harus dipertimbangkan karena memiliki margin yag besar dan ketersediaan produk yang melimpah.\n"
   ]
  }
 ],
 "metadata": {
  "kernelspec": {
   "display_name": "base",
   "language": "python",
   "name": "python3"
  },
  "language_info": {
   "codemirror_mode": {
    "name": "ipython",
    "version": 3
   },
   "file_extension": ".py",
   "mimetype": "text/x-python",
   "name": "python",
   "nbconvert_exporter": "python",
   "pygments_lexer": "ipython3",
   "version": "3.12.7"
  }
 },
 "nbformat": 4,
 "nbformat_minor": 2
}
